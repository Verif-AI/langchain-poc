{
 "cells": [
  {
   "cell_type": "code",
   "execution_count": 1,
   "id": "eed8a716-d3cd-4cf2-9330-eb8952be94d0",
   "metadata": {},
   "outputs": [
    {
     "name": "stdout",
     "output_type": "stream",
     "text": [
      "Requirement already satisfied: langchain in c:\\users\\tong\\appdata\\local\\programs\\python\\python311\\lib\\site-packages (0.1.4)\n",
      "Requirement already satisfied: langchainhub in c:\\users\\tong\\appdata\\local\\programs\\python\\python311\\lib\\site-packages (0.1.14)\n",
      "Requirement already satisfied: langchain-openai in c:\\users\\tong\\appdata\\local\\programs\\python\\python311\\lib\\site-packages (0.0.5)\n",
      "Requirement already satisfied: langchain-community in c:\\users\\tong\\appdata\\local\\programs\\python\\python311\\lib\\site-packages (0.0.16)\n",
      "Requirement already satisfied: faiss-cpu in c:\\users\\tong\\appdata\\local\\programs\\python\\python311\\lib\\site-packages (1.7.4)\n",
      "Requirement already satisfied: PyYAML>=5.3 in c:\\users\\tong\\appdata\\local\\programs\\python\\python311\\lib\\site-packages (from langchain) (6.0.1)\n",
      "Requirement already satisfied: SQLAlchemy<3,>=1.4 in c:\\users\\tong\\appdata\\local\\programs\\python\\python311\\lib\\site-packages (from langchain) (2.0.25)\n",
      "Requirement already satisfied: aiohttp<4.0.0,>=3.8.3 in c:\\users\\tong\\appdata\\local\\programs\\python\\python311\\lib\\site-packages (from langchain) (3.9.1)\n",
      "Requirement already satisfied: dataclasses-json<0.7,>=0.5.7 in c:\\users\\tong\\appdata\\local\\programs\\python\\python311\\lib\\site-packages (from langchain) (0.6.3)\n",
      "Requirement already satisfied: jsonpatch<2.0,>=1.33 in c:\\users\\tong\\appdata\\local\\programs\\python\\python311\\lib\\site-packages (from langchain) (1.33)\n",
      "Requirement already satisfied: langchain-core<0.2,>=0.1.16 in c:\\users\\tong\\appdata\\local\\programs\\python\\python311\\lib\\site-packages (from langchain) (0.1.16)\n",
      "Requirement already satisfied: langsmith<0.1,>=0.0.83 in c:\\users\\tong\\appdata\\local\\programs\\python\\python311\\lib\\site-packages (from langchain) (0.0.83)\n",
      "Requirement already satisfied: numpy<2,>=1 in c:\\users\\tong\\appdata\\local\\programs\\python\\python311\\lib\\site-packages (from langchain) (1.26.3)\n",
      "Requirement already satisfied: pydantic<3,>=1 in c:\\users\\tong\\appdata\\local\\programs\\python\\python311\\lib\\site-packages (from langchain) (2.5.3)\n",
      "Requirement already satisfied: requests<3,>=2 in c:\\users\\tong\\appdata\\local\\programs\\python\\python311\\lib\\site-packages (from langchain) (2.31.0)\n",
      "Requirement already satisfied: tenacity<9.0.0,>=8.1.0 in c:\\users\\tong\\appdata\\local\\programs\\python\\python311\\lib\\site-packages (from langchain) (8.2.3)\n",
      "Requirement already satisfied: types-requests<3.0.0.0,>=2.31.0.2 in c:\\users\\tong\\appdata\\local\\programs\\python\\python311\\lib\\site-packages (from langchainhub) (2.31.0.20240125)\n",
      "Requirement already satisfied: openai<2.0.0,>=1.10.0 in c:\\users\\tong\\appdata\\local\\programs\\python\\python311\\lib\\site-packages (from langchain-openai) (1.10.0)\n",
      "Requirement already satisfied: tiktoken<0.6.0,>=0.5.2 in c:\\users\\tong\\appdata\\local\\programs\\python\\python311\\lib\\site-packages (from langchain-openai) (0.5.2)\n",
      "Requirement already satisfied: attrs>=17.3.0 in c:\\users\\tong\\appdata\\local\\programs\\python\\python311\\lib\\site-packages (from aiohttp<4.0.0,>=3.8.3->langchain) (23.2.0)\n",
      "Requirement already satisfied: multidict<7.0,>=4.5 in c:\\users\\tong\\appdata\\local\\programs\\python\\python311\\lib\\site-packages (from aiohttp<4.0.0,>=3.8.3->langchain) (6.0.4)\n",
      "Requirement already satisfied: yarl<2.0,>=1.0 in c:\\users\\tong\\appdata\\local\\programs\\python\\python311\\lib\\site-packages (from aiohttp<4.0.0,>=3.8.3->langchain) (1.9.4)\n",
      "Requirement already satisfied: frozenlist>=1.1.1 in c:\\users\\tong\\appdata\\local\\programs\\python\\python311\\lib\\site-packages (from aiohttp<4.0.0,>=3.8.3->langchain) (1.4.1)\n",
      "Requirement already satisfied: aiosignal>=1.1.2 in c:\\users\\tong\\appdata\\local\\programs\\python\\python311\\lib\\site-packages (from aiohttp<4.0.0,>=3.8.3->langchain) (1.3.1)\n",
      "Requirement already satisfied: marshmallow<4.0.0,>=3.18.0 in c:\\users\\tong\\appdata\\local\\programs\\python\\python311\\lib\\site-packages (from dataclasses-json<0.7,>=0.5.7->langchain) (3.20.2)\n",
      "Requirement already satisfied: typing-inspect<1,>=0.4.0 in c:\\users\\tong\\appdata\\local\\programs\\python\\python311\\lib\\site-packages (from dataclasses-json<0.7,>=0.5.7->langchain) (0.9.0)\n",
      "Requirement already satisfied: jsonpointer>=1.9 in c:\\users\\tong\\appdata\\local\\programs\\python\\python311\\lib\\site-packages (from jsonpatch<2.0,>=1.33->langchain) (2.4)\n",
      "Requirement already satisfied: anyio<5,>=3 in c:\\users\\tong\\appdata\\local\\programs\\python\\python311\\lib\\site-packages (from langchain-core<0.2,>=0.1.16->langchain) (4.2.0)\n",
      "Requirement already satisfied: packaging<24.0,>=23.2 in c:\\users\\tong\\appdata\\local\\programs\\python\\python311\\lib\\site-packages (from langchain-core<0.2,>=0.1.16->langchain) (23.2)\n",
      "Requirement already satisfied: distro<2,>=1.7.0 in c:\\users\\tong\\appdata\\local\\programs\\python\\python311\\lib\\site-packages (from openai<2.0.0,>=1.10.0->langchain-openai) (1.9.0)\n",
      "Requirement already satisfied: httpx<1,>=0.23.0 in c:\\users\\tong\\appdata\\local\\programs\\python\\python311\\lib\\site-packages (from openai<2.0.0,>=1.10.0->langchain-openai) (0.26.0)\n",
      "Requirement already satisfied: sniffio in c:\\users\\tong\\appdata\\local\\programs\\python\\python311\\lib\\site-packages (from openai<2.0.0,>=1.10.0->langchain-openai) (1.3.0)\n",
      "Requirement already satisfied: tqdm>4 in c:\\users\\tong\\appdata\\local\\programs\\python\\python311\\lib\\site-packages (from openai<2.0.0,>=1.10.0->langchain-openai) (4.66.1)\n",
      "Requirement already satisfied: typing-extensions<5,>=4.7 in c:\\users\\tong\\appdata\\local\\programs\\python\\python311\\lib\\site-packages (from openai<2.0.0,>=1.10.0->langchain-openai) (4.9.0)\n",
      "Requirement already satisfied: annotated-types>=0.4.0 in c:\\users\\tong\\appdata\\local\\programs\\python\\python311\\lib\\site-packages (from pydantic<3,>=1->langchain) (0.6.0)\n",
      "Requirement already satisfied: pydantic-core==2.14.6 in c:\\users\\tong\\appdata\\local\\programs\\python\\python311\\lib\\site-packages (from pydantic<3,>=1->langchain) (2.14.6)\n",
      "Requirement already satisfied: charset-normalizer<4,>=2 in c:\\users\\tong\\appdata\\local\\programs\\python\\python311\\lib\\site-packages (from requests<3,>=2->langchain) (3.3.2)\n",
      "Requirement already satisfied: idna<4,>=2.5 in c:\\users\\tong\\appdata\\local\\programs\\python\\python311\\lib\\site-packages (from requests<3,>=2->langchain) (3.6)\n",
      "Requirement already satisfied: urllib3<3,>=1.21.1 in c:\\users\\tong\\appdata\\local\\programs\\python\\python311\\lib\\site-packages (from requests<3,>=2->langchain) (2.1.0)\n",
      "Requirement already satisfied: certifi>=2017.4.17 in c:\\users\\tong\\appdata\\local\\programs\\python\\python311\\lib\\site-packages (from requests<3,>=2->langchain) (2023.11.17)\n",
      "Requirement already satisfied: greenlet!=0.4.17 in c:\\users\\tong\\appdata\\local\\programs\\python\\python311\\lib\\site-packages (from SQLAlchemy<3,>=1.4->langchain) (3.0.3)\n",
      "Requirement already satisfied: regex>=2022.1.18 in c:\\users\\tong\\appdata\\local\\programs\\python\\python311\\lib\\site-packages (from tiktoken<0.6.0,>=0.5.2->langchain-openai) (2023.12.25)\n",
      "Requirement already satisfied: httpcore==1.* in c:\\users\\tong\\appdata\\local\\programs\\python\\python311\\lib\\site-packages (from httpx<1,>=0.23.0->openai<2.0.0,>=1.10.0->langchain-openai) (1.0.2)\n",
      "Requirement already satisfied: h11<0.15,>=0.13 in c:\\users\\tong\\appdata\\local\\programs\\python\\python311\\lib\\site-packages (from httpcore==1.*->httpx<1,>=0.23.0->openai<2.0.0,>=1.10.0->langchain-openai) (0.14.0)\n",
      "Requirement already satisfied: colorama in c:\\users\\tong\\appdata\\local\\programs\\python\\python311\\lib\\site-packages (from tqdm>4->openai<2.0.0,>=1.10.0->langchain-openai) (0.4.6)\n",
      "Requirement already satisfied: mypy-extensions>=0.3.0 in c:\\users\\tong\\appdata\\local\\programs\\python\\python311\\lib\\site-packages (from typing-inspect<1,>=0.4.0->dataclasses-json<0.7,>=0.5.7->langchain) (1.0.0)\n"
     ]
    },
    {
     "name": "stderr",
     "output_type": "stream",
     "text": [
      "\n",
      "[notice] A new release of pip available: 22.3.1 -> 23.3.2\n",
      "[notice] To update, run: python.exe -m pip install --upgrade pip\n"
     ]
    }
   ],
   "source": [
    "!pip install langchain langchainhub langchain-openai langchain-community faiss-cpu"
   ]
  },
  {
   "cell_type": "code",
   "execution_count": 2,
   "id": "567e419f-92d3-4992-9236-b6538cf36593",
   "metadata": {},
   "outputs": [],
   "source": [
    "import os\n",
    "# openai api key\n",
    "os.environ['OPENAI_API_KEY'] = \"XXXXXXXX\"\n",
    "# tavily api key\n",
    "os.environ['TAVILY_API_KEY'] = \"XXXXXXXX\""
   ]
  },
  {
   "cell_type": "code",
   "execution_count": 3,
   "id": "d351803a-abcf-4e6a-b6dd-d058842cf861",
   "metadata": {},
   "outputs": [],
   "source": [
    "# web based documents loader\n",
    "from langchain_community.document_loaders import WebBaseLoader\n",
    "loader = WebBaseLoader(\"https://docs.smith.langchain.com/overview\")\n",
    "docs = loader.load()"
   ]
  },
  {
   "cell_type": "code",
   "execution_count": 4,
   "id": "3b55b685-412a-4040-8784-d0d90f79c3cb",
   "metadata": {},
   "outputs": [],
   "source": [
    "# openai embedding\n",
    "from langchain_openai import OpenAIEmbeddings\n",
    "embeddings = OpenAIEmbeddings()"
   ]
  },
  {
   "cell_type": "code",
   "execution_count": 5,
   "id": "cd56f115-a40f-46d1-a273-c457bb8d7b6e",
   "metadata": {},
   "outputs": [],
   "source": [
    "# build documents into vectors\n",
    "from langchain_community.vectorstores import FAISS\n",
    "from langchain.text_splitter import RecursiveCharacterTextSplitter\n",
    "\n",
    "text_splitter = RecursiveCharacterTextSplitter()\n",
    "documents = text_splitter.split_documents(docs)\n",
    "vector = FAISS.from_documents(documents, embeddings)"
   ]
  },
  {
   "cell_type": "code",
   "execution_count": 6,
   "id": "e0cd505e-7524-4d1b-8e36-13959b13f5c2",
   "metadata": {},
   "outputs": [],
   "source": [
    "# retriever\n",
    "retriever = vector.as_retriever()"
   ]
  },
  {
   "cell_type": "code",
   "execution_count": 7,
   "id": "26374ef3-d4c5-41e3-a445-a71b4ed61302",
   "metadata": {},
   "outputs": [],
   "source": [
    "# retriever tool\n",
    "from langchain.tools.retriever import create_retriever_tool\n",
    "\n",
    "retriever_tool = create_retriever_tool(\n",
    "    retriever,\n",
    "    \"langsmith_search\",\n",
    "    \"Search for information about LangSmith. For any questions about LangSmith, you must use this tool!\",\n",
    ")"
   ]
  },
  {
   "cell_type": "code",
   "execution_count": 8,
   "id": "ac132450-ae3e-4bef-91be-067509e60b0d",
   "metadata": {},
   "outputs": [],
   "source": [
    "# search\n",
    "from langchain_community.tools.tavily_search import TavilySearchResults\n",
    "search = TavilySearchResults()"
   ]
  },
  {
   "cell_type": "code",
   "execution_count": 9,
   "id": "d746da34-338e-46c0-93b6-9b78d4091382",
   "metadata": {},
   "outputs": [],
   "source": [
    "# tool chain\n",
    "tools = [retriever_tool, search]"
   ]
  },
  {
   "cell_type": "code",
   "execution_count": 10,
   "id": "9d09693b-787c-4247-82a9-8386828c8875",
   "metadata": {},
   "outputs": [],
   "source": [
    "# prompt, llm, agent\n",
    "from langchain_openai import ChatOpenAI\n",
    "from langchain import hub\n",
    "from langchain.agents import create_openai_functions_agent\n",
    "from langchain.agents import AgentExecutor\n",
    "\n",
    "prompt = hub.pull(\"hwchase17/openai-functions-agent\")\n",
    "llm = ChatOpenAI(model=\"gpt-3.5-turbo\", temperature=0)\n",
    "agent = create_openai_functions_agent(llm, tools, prompt)\n",
    "agent_executor = AgentExecutor(agent=agent, tools=tools, verbose=True)"
   ]
  },
  {
   "cell_type": "code",
   "execution_count": null,
   "id": "d0ef81cf-ead8-444e-a027-3c8e645438ea",
   "metadata": {},
   "outputs": [
    {
     "name": "stdout",
     "output_type": "stream",
     "text": [
      "\n",
      "\n",
      "\u001b[1m> Entering new AgentExecutor chain...\u001b[0m\n",
      "\u001b[32;1m\u001b[1;3mLangSmith can help with testing in several ways:\n",
      "\n",
      "1. Test Case Generation: LangSmith can generate test cases automatically based on the specifications of the software being tested. It uses advanced techniques such as symbolic execution and constraint solving to generate test inputs that cover different execution paths and edge cases.\n",
      "\n",
      "2. Test Oracles: LangSmith can help in defining test oracles, which are the expected outputs or behaviors of the software under test. It can analyze the specifications and requirements of the software to automatically generate assertions or checks that can be used as test oracles.\n",
      "\n",
      "3. Test Coverage Analysis: LangSmith can analyze the coverage of test cases to determine which parts of the software have been exercised during testing. It can provide metrics and visualizations to help testers understand the effectiveness of their test suite and identify areas that need more testing.\n",
      "\n",
      "4. Test Prioritization: LangSmith can prioritize test cases based on their likelihood of finding bugs or their coverage of critical parts of the software. This helps testers focus their efforts on the most important test cases and maximize the efficiency of their testing process.\n",
      "\n",
      "5. Test Automation: LangSmith can automate the execution of test cases, making it easier to run large test suites and perform regression testing. It can integrate with existing testing frameworks and tools to streamline the testing process.\n",
      "\n",
      "Overall, LangSmith can assist testers in improving the quality and efficiency of their testing efforts by providing automated test case generation, test oracles, coverage analysis, prioritization, and automation capabilities.\u001b[0m\n",
      "\n",
      "\u001b[1m> Finished chain.\u001b[0m\n",
      "{'input': 'how can langsmith help with testing?', 'output': 'LangSmith can help with testing in several ways:\\n\\n1. Test Case Generation: LangSmith can generate test cases automatically based on the specifications of the software being tested. It uses advanced techniques such as symbolic execution and constraint solving to generate test inputs that cover different execution paths and edge cases.\\n\\n2. Test Oracles: LangSmith can help in defining test oracles, which are the expected outputs or behaviors of the software under test. It can analyze the specifications and requirements of the software to automatically generate assertions or checks that can be used as test oracles.\\n\\n3. Test Coverage Analysis: LangSmith can analyze the coverage of test cases to determine which parts of the software have been exercised during testing. It can provide metrics and visualizations to help testers understand the effectiveness of their test suite and identify areas that need more testing.\\n\\n4. Test Prioritization: LangSmith can prioritize test cases based on their likelihood of finding bugs or their coverage of critical parts of the software. This helps testers focus their efforts on the most important test cases and maximize the efficiency of their testing process.\\n\\n5. Test Automation: LangSmith can automate the execution of test cases, making it easier to run large test suites and perform regression testing. It can integrate with existing testing frameworks and tools to streamline the testing process.\\n\\nOverall, LangSmith can assist testers in improving the quality and efficiency of their testing efforts by providing automated test case generation, test oracles, coverage analysis, prioritization, and automation capabilities.'}\n",
      "\n",
      "\n",
      "\u001b[1m> Entering new AgentExecutor chain...\u001b[0m\n",
      "\u001b[32;1m\u001b[1;3m\n",
      "Invoking: `tavily_search_results_json` with `{'query': 'weather in San Francisco'}`\n",
      "\n",
      "\n",
      "\u001b[0m\u001b[33;1m\u001b[1;3m[{'url': 'https://en.climate-data.org/north-america/united-states-of-america/california/san-francisco-385/t/january-1/', 'content': 'San Francisco Weather in January  you can find all information about the weather in San Francisco in January:  San Francisco weather in January San Francisco weather by month // weather averages 9.6 (49.2) 6.2 (43.2) 14 (57.3) 113  San Francisco weather in January // weather averages Airport close to San FranciscoData: 1991 - 2021 Min. Temperature °C (°F), Max. Temperature °C (°F), Precipitation / Rainfall mm (in), Humidity, Rainy days. Data: 1999 - 2019: avg. Sun hours San Francisco weather and climate for further months San Francisco in February San Francisco in March San Francisco in April San Francisco in May San Francisco in June San Francisco in July'}, {'url': 'https://www.holiday-weather.com/san_francisco/january/2024/', 'content': \"More from San Francisco Main Menu San Francisco, Average Weather January Forecast Today 12ºC Tomorrow 12ºC Rainfall  What's the Weather like in San Francisco in January Temperature  San Francisco January daily averages for San Francisco 01 02 03 04 05 06 07 08 09 10 11 12 Slide and Tap Other Months  Rainfall Rainfall Days Sunshine Hours Slide and Tap Other Months January daily averages San FranciscoSan Francisco Hotels in January . Omni San Francisco hotel. Omni San Francisco hotel is a 4.5* luxury hotel located in the financial district of the city, close to a cable car line and walking distance to Union Square, a neighbourhood with high-end shopping and art galleries. The building was originally built in 1926 as a bank and the architecture reflects the grand style in this elegant hotel ...\"}]\u001b[0m\u001b[32;1m\u001b[1;3mI found some information about the weather in San Francisco. In January, the average temperature ranges from 9.6°C (49.2°F) to 14°C (57.3°F). The city experiences an average of 113 mm (4.4 inches) of precipitation during this month. If you would like more detailed information about the weather in San Francisco for other months, please let me know.\u001b[0m\n",
      "\n",
      "\u001b[1m> Finished chain.\u001b[0m\n",
      "{'input': 'what is the weather in SF?', 'output': 'I found some information about the weather in San Francisco. In January, the average temperature ranges from 9.6°C (49.2°F) to 14°C (57.3°F). The city experiences an average of 113 mm (4.4 inches) of precipitation during this month. If you would like more detailed information about the weather in San Francisco for other months, please let me know.'}\n",
      "\n",
      "\n",
      "\u001b[1m> Entering new AgentExecutor chain...\u001b[0m\n"
     ]
    }
   ],
   "source": [
    "# invoke\n",
    "print(agent_executor.invoke({\"input\": \"how can langsmith help with testing?\"}))\n",
    "print(agent_executor.invoke({\"input\": \"what is the weather in SF?\"}))\n",
    "\n",
    "from langchain_core.messages import HumanMessage, AIMessage\n",
    "chat_history = [HumanMessage(content=\"Can LangSmith help test my LLM applications?\"), AIMessage(content=\"Yes!\")]\n",
    "\n",
    "print(agent_executor.invoke({\n",
    "    \"chat_history\": chat_history,\n",
    "    \"input\": \"Tell me how\"\n",
    "}))"
   ]
  },
  {
   "cell_type": "code",
   "execution_count": null,
   "id": "0cf015e1-e8a1-4514-ac8e-92ff26369063",
   "metadata": {},
   "outputs": [],
   "source": []
  }
 ],
 "metadata": {
  "kernelspec": {
   "display_name": "Python 3 (ipykernel)",
   "language": "python",
   "name": "python3"
  },
  "language_info": {
   "codemirror_mode": {
    "name": "ipython",
    "version": 3
   },
   "file_extension": ".py",
   "mimetype": "text/x-python",
   "name": "python",
   "nbconvert_exporter": "python",
   "pygments_lexer": "ipython3",
   "version": "3.11.1"
  }
 },
 "nbformat": 4,
 "nbformat_minor": 5
}
